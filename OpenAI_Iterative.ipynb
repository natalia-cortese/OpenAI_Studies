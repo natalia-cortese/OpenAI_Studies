{
  "nbformat": 4,
  "nbformat_minor": 0,
  "metadata": {
    "colab": {
      "provenance": [],
      "authorship_tag": "ABX9TyOV+L8oz5yAmaqpiSirHiNX",
      "include_colab_link": true
    },
    "kernelspec": {
      "name": "python3",
      "display_name": "Python 3"
    },
    "language_info": {
      "name": "python"
    }
  },
  "cells": [
    {
      "cell_type": "markdown",
      "metadata": {
        "id": "view-in-github",
        "colab_type": "text"
      },
      "source": [
        "<a href=\"https://colab.research.google.com/github/natalia-cortese/OpenAI_Studies/blob/main/OpenAI_Iterative.ipynb\" target=\"_parent\"><img src=\"https://colab.research.google.com/assets/colab-badge.svg\" alt=\"Open In Colab\"/></a>"
      ]
    },
    {
      "cell_type": "markdown",
      "source": [
        "# Desarrollo rápido iterativo\n",
        "En esta lección, analizará y refinará iterativamente sus indicaciones para generar una copia de marketing a partir de una hoja de datos del producto.\n"
      ],
      "metadata": {
        "id": "j7pfkmrQVbQr"
      }
    },
    {
      "cell_type": "markdown",
      "source": [
        "# Setup del entorno"
      ],
      "metadata": {
        "id": "7lyCLnu9Vo-p"
      }
    },
    {
      "cell_type": "code",
      "source": [
        "!pip install openai"
      ],
      "metadata": {
        "colab": {
          "base_uri": "https://localhost:8080/"
        },
        "id": "fMKSMSPYaLAu",
        "outputId": "002dae14-5bbc-4ab9-9864-cf0b65ebd683"
      },
      "execution_count": 6,
      "outputs": [
        {
          "output_type": "stream",
          "name": "stdout",
          "text": [
            "Looking in indexes: https://pypi.org/simple, https://us-python.pkg.dev/colab-wheels/public/simple/\n",
            "Collecting openai\n",
            "  Downloading openai-0.27.6-py3-none-any.whl (71 kB)\n",
            "\u001b[2K     \u001b[90m━━━━━━━━━━━━━━━━━━━━━━━━━━━━━━━━━━━━━━━━\u001b[0m \u001b[32m71.9/71.9 kB\u001b[0m \u001b[31m2.4 MB/s\u001b[0m eta \u001b[36m0:00:00\u001b[0m\n",
            "\u001b[?25hRequirement already satisfied: requests>=2.20 in /usr/local/lib/python3.10/dist-packages (from openai) (2.27.1)\n",
            "Collecting aiohttp\n",
            "  Downloading aiohttp-3.8.4-cp310-cp310-manylinux_2_17_x86_64.manylinux2014_x86_64.whl (1.0 MB)\n",
            "\u001b[2K     \u001b[90m━━━━━━━━━━━━━━━━━━━━━━━━━━━━━━━━━━━━━━━━\u001b[0m \u001b[32m1.0/1.0 MB\u001b[0m \u001b[31m17.5 MB/s\u001b[0m eta \u001b[36m0:00:00\u001b[0m\n",
            "\u001b[?25hRequirement already satisfied: tqdm in /usr/local/lib/python3.10/dist-packages (from openai) (4.65.0)\n",
            "Requirement already satisfied: certifi>=2017.4.17 in /usr/local/lib/python3.10/dist-packages (from requests>=2.20->openai) (2022.12.7)\n",
            "Requirement already satisfied: idna<4,>=2.5 in /usr/local/lib/python3.10/dist-packages (from requests>=2.20->openai) (3.4)\n",
            "Requirement already satisfied: charset-normalizer~=2.0.0 in /usr/local/lib/python3.10/dist-packages (from requests>=2.20->openai) (2.0.12)\n",
            "Requirement already satisfied: urllib3<1.27,>=1.21.1 in /usr/local/lib/python3.10/dist-packages (from requests>=2.20->openai) (1.26.15)\n",
            "Collecting aiosignal>=1.1.2\n",
            "  Downloading aiosignal-1.3.1-py3-none-any.whl (7.6 kB)\n",
            "Requirement already satisfied: attrs>=17.3.0 in /usr/local/lib/python3.10/dist-packages (from aiohttp->openai) (23.1.0)\n",
            "Collecting yarl<2.0,>=1.0\n",
            "  Downloading yarl-1.9.2-cp310-cp310-manylinux_2_17_x86_64.manylinux2014_x86_64.whl (268 kB)\n",
            "\u001b[2K     \u001b[90m━━━━━━━━━━━━━━━━━━━━━━━━━━━━━━━━━━━━━━\u001b[0m \u001b[32m268.8/268.8 kB\u001b[0m \u001b[31m23.8 MB/s\u001b[0m eta \u001b[36m0:00:00\u001b[0m\n",
            "\u001b[?25hCollecting multidict<7.0,>=4.5\n",
            "  Downloading multidict-6.0.4-cp310-cp310-manylinux_2_17_x86_64.manylinux2014_x86_64.whl (114 kB)\n",
            "\u001b[2K     \u001b[90m━━━━━━━━━━━━━━━━━━━━━━━━━━━━━━━━━━━━━━\u001b[0m \u001b[32m114.5/114.5 kB\u001b[0m \u001b[31m12.6 MB/s\u001b[0m eta \u001b[36m0:00:00\u001b[0m\n",
            "\u001b[?25hCollecting frozenlist>=1.1.1\n",
            "  Downloading frozenlist-1.3.3-cp310-cp310-manylinux_2_5_x86_64.manylinux1_x86_64.manylinux_2_17_x86_64.manylinux2014_x86_64.whl (149 kB)\n",
            "\u001b[2K     \u001b[90m━━━━━━━━━━━━━━━━━━━━━━━━━━━━━━━━━━━━━━\u001b[0m \u001b[32m149.6/149.6 kB\u001b[0m \u001b[31m14.7 MB/s\u001b[0m eta \u001b[36m0:00:00\u001b[0m\n",
            "\u001b[?25hCollecting async-timeout<5.0,>=4.0.0a3\n",
            "  Downloading async_timeout-4.0.2-py3-none-any.whl (5.8 kB)\n",
            "Installing collected packages: multidict, frozenlist, async-timeout, yarl, aiosignal, aiohttp, openai\n",
            "Successfully installed aiohttp-3.8.4 aiosignal-1.3.1 async-timeout-4.0.2 frozenlist-1.3.3 multidict-6.0.4 openai-0.27.6 yarl-1.9.2\n"
          ]
        }
      ]
    },
    {
      "cell_type": "code",
      "execution_count": 8,
      "metadata": {
        "id": "NBzy0QPKVQ6u"
      },
      "outputs": [],
      "source": [
        "import openai\n",
        "import os\n",
        "\n",
        "from dotenv import load_dotenv, find_dotenv\n",
        "_ = load_dotenv(find_dotenv()) # read local .env file\n",
        "\n",
        "openai.api_key  = os.getenv('OPENAI_API_KEY')\n",
        "\n",
        "def get_completion(prompt, model=\"gpt-3.5-turbo\"):\n",
        "    messages = [{\"role\": \"user\", \"content\": prompt}]\n",
        "    response = openai.ChatCompletion.create(\n",
        "        model=model,\n",
        "        messages=messages,\n",
        "        temperature=0, # this is the degree of randomness of the model's output\n",
        "    )\n",
        "    return response.choices[0].message[\"content\"]"
      ]
    },
    {
      "cell_type": "markdown",
      "source": [
        "# Genere una descripción de producto de marketing a partir de una ficha técnica del producto"
      ],
      "metadata": {
        "id": "zuKuBnEKV-FD"
      }
    },
    {
      "cell_type": "code",
      "source": [
        "fact_sheet_chair = \"\"\"\n",
        "DESCRIPCIÓN GENERAL\n",
        "- Parte de una hermosa familia de muebles de oficina inspirados en mediados de siglo,\n",
        "incluyendo archivadores, escritorios, estanterías, mesas de reuniones y más.\n",
        "- Varias opciones de color de carcasa y acabados de base.\n",
        "- Disponible con respaldo de plástico y tapizado frontal (SWC-100)\n",
        "o tapizado completo (SWC-110) en 10 opciones de tela y 6 de cuero.\n",
        "- Las opciones de acabado de la base son: acero inoxidable, negro mate,\n",
        "blanco brillo o cromo.\n",
        "- La silla está disponible con o sin reposabrazos.\n",
        "- Adecuado para entornos domésticos o comerciales.\n",
        "- Cualificado para uso por contrato.\n",
        "\n",
        "CONSTRUCCIÓN\n",
        "- Base de aluminio plastificado de 5 ruedas.\n",
        "- Ajuste neumático del sillón para subir/bajar fácilmente.\n",
        "\n",
        "DIMENSIONES\n",
        "- ANCHO 53 CM | 20.87”\n",
        "- PROFUNDIDAD 51 CM | 20.08”\n",
        "- ALTURA 80 CM | 31.50”\n",
        "- ALTURA DEL ASIENTO 44 CM | 17,32”\n",
        "- PROFUNDIDAD DEL ASIENTO 41 CM | 16,14\"\n",
        "\n",
        "OPCIONES\n",
        "- Opciones de ruedas para piso blando o duro.\n",
        "- Dos opciones de densidades de espuma de asiento:\n",
        "  medio (1,8 lb/ft3) o alto (2,8 lb/ft3)\n",
        "- Reposabrazos sin brazos o de PU de 8 posiciones\n",
        "\n",
        "MATERIALES\n",
        "PLANEADOR CON BASE DE CARCASA\n",
        "- Fundición de aluminio con recubrimiento de nylon PA6/PA66 modificado.\n",
        "- Grosor de la carcasa: 10 mm.\n",
        "ASIENTO\n",
        "- espuma HD36\n",
        "\n",
        "PAÍS DE ORIGEN\n",
        "- Italia\n",
        "\"\"\""
      ],
      "metadata": {
        "id": "TZOlS2G6WEBU"
      },
      "execution_count": 9,
      "outputs": []
    },
    {
      "cell_type": "code",
      "source": [
        "prompt = f\"\"\"\n",
        "Su tarea es ayudar a un equipo de marketing a crear un\n",
        "descripción en español para un sitio web minorista de un producto basado\n",
        "en una ficha técnica.\n",
        "\n",
        "Escriba una descripción del producto basada en la información.\n",
        "previsto en las especificaciones técnicas delimitadas por\n",
        "triples tildes.\n",
        "\n",
        "Especificaciones técnicas: ```{fact_sheet_chair}```\n",
        "\"\"\"\n",
        "response = get_completion(prompt)\n",
        "print(response)"
      ],
      "metadata": {
        "id": "A7kxQttzWeX7"
      },
      "execution_count": null,
      "outputs": []
    },
    {
      "cell_type": "markdown",
      "source": [
        "# Problema 1: El texto es demasiado largo\n",
        "\n",
        "Limite el numero de lineas, palabras, párrafos."
      ],
      "metadata": {
        "id": "4EN4CEdOXQvx"
      }
    },
    {
      "cell_type": "code",
      "source": [
        "prompt = f\"\"\"\n",
        "Su tarea es ayudar a un equipo de marketing a crear un\n",
        "descripción en español para un sitio web minorista de un producto basado\n",
        "en una ficha técnica.\n",
        "\n",
        "Escriba una descripción del producto basada en la información.\n",
        "previsto en las especificaciones técnicas delimitadas por\n",
        "triples tildes.\n",
        "\n",
        "Use como mucho 50 palabras\n",
        "\n",
        "Especificaciones técnicas: ```{fact_sheet_chair}```\n",
        "\"\"\"\n",
        "response = get_completion(prompt)\n",
        "print(response)\n"
      ],
      "metadata": {
        "id": "oAw1eOmkXWDQ"
      },
      "execution_count": null,
      "outputs": []
    },
    {
      "cell_type": "markdown",
      "source": [
        "# Problema 2: El texto se centra en los detalles equivocados.\n",
        "\n",
        "Solicite que el texto se centre en los detalles acordes al tipo de audiencia"
      ],
      "metadata": {
        "id": "_pu1Gq6wX31C"
      }
    },
    {
      "cell_type": "code",
      "source": [
        "prompt = f\"\"\"\n",
        "Su tarea es ayudar a un equipo de marketing a crear un\n",
        "descripción en español para un sitio web minorista de un producto basado\n",
        "en una ficha técnica.\n",
        "\n",
        "Escriba una descripción del producto basada en la información.\n",
        "previsto en las especificaciones técnicas delimitadas por\n",
        "triples tildes.\n",
        "\n",
        "La descripción está destinada a minoristas de muebles,\n",
        "por lo que debe ser de naturaleza técnica y centrarse en la\n",
        "materiales con los que está construido el producto.\n",
        "\n",
        "Use como mucho 50 palabras\n",
        "\n",
        "Especificaciones técnicas: ```{fact_sheet_chair}```\n",
        "\"\"\"\n",
        "response = get_completion(prompt)\n",
        "print(response)"
      ],
      "metadata": {
        "id": "VgenWHbfX9Ct"
      },
      "execution_count": null,
      "outputs": []
    },
    {
      "cell_type": "code",
      "source": [
        "prompt = f\"\"\"\n",
        "Su tarea es ayudar a un equipo de marketing a crear un\n",
        "descripción en español para un sitio web minorista de un producto basado\n",
        "en una ficha técnica.\n",
        "\n",
        "Escriba una descripción del producto basada en la información.\n",
        "previsto en las especificaciones técnicas delimitadas por\n",
        "triples tildes.\n",
        "\n",
        "La descripción está destinada a amas de casa, por lo tanto la descripción no debe\n",
        "ser técnica y debe centrarse en los colores, los acabados y el estilo de diseño.\n",
        "\n",
        "Use como mucho 50 palabras\n",
        "\n",
        "Especificaciones técnicas: ```{fact_sheet_chair}```\n",
        "\"\"\"\n",
        "response = get_completion(prompt)\n",
        "print(response)"
      ],
      "metadata": {
        "id": "mkl246NCZDOt"
      },
      "execution_count": null,
      "outputs": []
    },
    {
      "cell_type": "markdown",
      "source": [
        "# Problema 3: La descripcion necesita una tabla de medidas\n",
        "  \n",
        "  Solicite que extraiga la información y la presente en una tabla.\n",
        "\n"
      ],
      "metadata": {
        "id": "UugNhVhSZZCO"
      }
    },
    {
      "cell_type": "code",
      "source": [
        "from IPython.display import display, HTML"
      ],
      "metadata": {
        "id": "1Fm8YOiTZrm5"
      },
      "execution_count": 3,
      "outputs": []
    },
    {
      "cell_type": "code",
      "source": [
        "prompt = f\"\"\"\n",
        "Your task is to help a marketing team create a \n",
        "description for a retail website of a product based \n",
        "on a technical fact sheet.\n",
        "\n",
        "Write a product description based on the information \n",
        "provided in the technical specifications delimited by \n",
        "triple backticks.\n",
        "\n",
        "The description is intended for furniture retailers, \n",
        "so should be technical in nature and focus on the \n",
        "materials the product is constructed from.\n",
        "\n",
        "At the end of the description, include every 7-character \n",
        "Product ID in the technical specification.\n",
        "\n",
        "After the description, include a table that gives the \n",
        "product's dimensions. The table should have two columns.\n",
        "In the first column include the name of the dimension. \n",
        "In the second column include the measurements in inches only.\n",
        "\n",
        "Give the table the title 'Product Dimensions'.\n",
        "\n",
        "Format everything as HTML that can be used in a website. \n",
        "Place the description in a <div> element.\n",
        "\n",
        "Technical specifications: ```{fact_sheet_chair}```\n",
        "\"\"\"\n",
        "\n",
        "response = get_completion(prompt)\n",
        "display(HTML(response))"
      ],
      "metadata": {
        "id": "OKIaYGntZv0m"
      },
      "execution_count": null,
      "outputs": []
    }
  ]
}